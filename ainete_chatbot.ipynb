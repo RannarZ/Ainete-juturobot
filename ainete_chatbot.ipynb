{
 "cells": [
  {
   "cell_type": "markdown",
   "id": "89e6d818-7097-4dfb-a08d-3075a8c08026",
   "metadata": {},
   "source": [
    "# Ainete chatbot #"
   ]
  },
  {
   "cell_type": "markdown",
   "id": "1be9e7c8-0349-4dc7-bef7-0dc6b9b5bec0",
   "metadata": {},
   "source": [
    "## Impordid ##\n",
    "\n",
    "Optimiseerijad: FAISS, KD trees, Principal component analysis\n",
    "Veel uurida: https://github.com/NivedhaBalakrishnan/Vector_Store_from_Scratch/blob/main/vector_store.py\n",
    "\n",
    "Optimiseerimine: KD tree\n",
    "Salvestamine faili ja failist kättesaamine: pickle (tegelt vist mitte, aga hoian alles)\n"
   ]
  },
  {
   "cell_type": "code",
   "execution_count": 2,
   "id": "45b9aca3-6990-4263-901a-6ff993082e8a",
   "metadata": {},
   "outputs": [],
   "source": [
    "import sqlite3 as sql\n",
    "import numpy as np\n",
    "\n"
   ]
  },
  {
   "cell_type": "code",
   "execution_count": 3,
   "id": "b8f5f6c7-4a36-4ea4-82c2-d329cbdfb9df",
   "metadata": {},
   "outputs": [],
   "source": [
    "con = sql.connect(\"primitiivne_db.db\")"
   ]
  },
  {
   "cell_type": "code",
   "execution_count": 4,
   "id": "259b05fd-8c65-4328-9bfb-04aa50cc7c96",
   "metadata": {},
   "outputs": [],
   "source": [
    "cursor = con.cursor()"
   ]
  },
  {
   "cell_type": "code",
   "execution_count": 8,
   "id": "1aad111c-e9d9-47cc-8af2-17efca5e2159",
   "metadata": {},
   "outputs": [
    {
     "ename": "OperationalError",
     "evalue": "table AINED already exists",
     "output_type": "error",
     "traceback": [
      "\u001b[0;31m---------------------------------------------------------------------------\u001b[0m",
      "\u001b[0;31mOperationalError\u001b[0m                          Traceback (most recent call last)",
      "Cell \u001b[0;32mIn[8], line 1\u001b[0m\n\u001b[0;32m----> 1\u001b[0m \u001b[43mcursor\u001b[49m\u001b[38;5;241;43m.\u001b[39;49m\u001b[43mexecute\u001b[49m\u001b[43m(\u001b[49m\u001b[38;5;124;43m\"\u001b[39;49m\u001b[38;5;124;43mCREATE TABLE AINED (ID NUMBER PRIMARY KEY, VECTOR BLOB)\u001b[39;49m\u001b[38;5;124;43m\"\u001b[39;49m\u001b[43m)\u001b[49m\n",
      "\u001b[0;31mOperationalError\u001b[0m: table AINED already exists"
     ]
    }
   ],
   "source": [
    "cursor.execute(\"CREATE TABLE AINED (ID NUMBER PRIMARY KEY, VECTOR BLOB)\")"
   ]
  },
  {
   "cell_type": "code",
   "execution_count": 17,
   "id": "a51f90fa-8b84-4bff-b822-f23aef748df7",
   "metadata": {},
   "outputs": [
    {
     "data": {
      "text/plain": [
       "<sqlite3.Cursor at 0x10443cb40>"
      ]
     },
     "execution_count": 17,
     "metadata": {},
     "output_type": "execute_result"
    }
   ],
   "source": [
    "vector = np.array([1, 23, 3, 4, 5, 6])\n",
    "cursor.execute(f\"INSERT INTO AINED(ID, VECTOR) VALUES (2, '{vector}')\")"
   ]
  },
  {
   "cell_type": "code",
   "execution_count": 22,
   "id": "60f1f61e-f231-46b1-b3d9-d58720d5fc70",
   "metadata": {},
   "outputs": [
    {
     "name": "stdout",
     "output_type": "stream",
     "text": [
      "('[1 2 3]',)\n",
      "('[ 1 23  3  4  5  6]',)\n"
     ]
    }
   ],
   "source": [
    "cursor.execute(\"SELECT VECTOR FROM AINED\")\n",
    "print(cursor.fetchone())\n",
    "print(cursor.fetchone())"
   ]
  },
  {
   "cell_type": "code",
   "execution_count": 19,
   "id": "6ed67c24-2693-4318-a0ef-becef504e323",
   "metadata": {},
   "outputs": [],
   "source": [
    "con.commit()"
   ]
  },
  {
   "cell_type": "code",
   "execution_count": null,
   "id": "199c090e-fe07-401d-a968-7948197d19ce",
   "metadata": {},
   "outputs": [],
   "source": []
  }
 ],
 "metadata": {
  "kernelspec": {
   "display_name": "Python 3 (ipykernel)",
   "language": "python",
   "name": "python3"
  },
  "language_info": {
   "codemirror_mode": {
    "name": "ipython",
    "version": 3
   },
   "file_extension": ".py",
   "mimetype": "text/x-python",
   "name": "python",
   "nbconvert_exporter": "python",
   "pygments_lexer": "ipython3",
   "version": "3.11.4"
  }
 },
 "nbformat": 4,
 "nbformat_minor": 5
}
